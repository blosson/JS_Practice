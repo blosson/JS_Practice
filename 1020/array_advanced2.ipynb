{
 "cells": [
  {
   "cell_type": "code",
   "execution_count": 2,
   "metadata": {},
   "outputs": [
    {
     "ename": "SyntaxError",
     "evalue": "Identifier 'avengers' has already been declared",
     "output_type": "error",
     "traceback": [
      "evalmachine.<anonymous>:1",
      "const avengers = [",
      "^",
      "",
      "SyntaxError: Identifier 'avengers' has already been declared",
      "    at Script.runInThisContext (node:vm:129:12)",
      "    at Object.runInThisContext (node:vm:313:38)",
      "    at run ([eval]:1020:15)",
      "    at onRunRequest ([eval]:864:18)",
      "    at onMessage ([eval]:828:13)",
      "    at process.emit (node:events:513:28)",
      "    at emit (node:internal/child_process:946:14)",
      "    at processTicksAndRejections (node:internal/process/task_queues:84:21)"
     ]
    }
   ],
   "source": [
    "const avengers = [\n",
    "  { name: 'Tony Stark', age: 45 },\n",
    "  { name: 'Steve Rogers', age: 32 },\n",
    "  { name: 'Thor', age: 40 },\n",
    "]\n",
    "\n",
    "const avenger = avengers.find(function (avenger) {\n",
    "  return avenger.name === 'Tony Stark'\n",
    "})"
   ]
  },
  {
   "cell_type": "code",
   "execution_count": 4,
   "metadata": {},
   "outputs": [
    {
     "ename": "SyntaxError",
     "evalue": "Identifier 'avengers1' has already been declared",
     "output_type": "error",
     "traceback": [
      "evalmachine.<anonymous>:1",
      "const avengers1 = [",
      "^",
      "",
      "SyntaxError: Identifier 'avengers1' has already been declared",
      "    at Script.runInThisContext (node:vm:129:12)",
      "    at Object.runInThisContext (node:vm:313:38)",
      "    at run ([eval]:1020:15)",
      "    at onRunRequest ([eval]:864:18)",
      "    at onMessage ([eval]:828:13)",
      "    at process.emit (node:events:513:28)",
      "    at emit (node:internal/child_process:946:14)",
      "    at processTicksAndRejections (node:internal/process/task_queues:84:21)"
     ]
    }
   ],
   "source": [
    "const avengers1 = [\n",
    "  { name: 'Tony Stark', age: 45 },\n",
    "  { name: 'Steve Rogers', age: 32 },\n",
    "  { name: 'Thor', age: 40 },\n",
    "]\n",
    "\n",
    "const avenger1 = avengers.find(function (avenger) {\n",
    "  return avenger.name === 'Tony Stark'\n",
    "})"
   ]
  },
  {
   "cell_type": "code",
   "execution_count": 5,
   "metadata": {},
   "outputs": [
    {
     "name": "stdout",
     "output_type": "stream",
     "text": [
      "{ name: 'Tony Stark', age: 45 }\n"
     ]
    }
   ],
   "source": [
    "const avengers2 = [\n",
    "  { name: 'Tony Stark', age: 45 },\n",
    "  { name: 'Steve Rogers', age: 32 },\n",
    "  { name: 'Thor', age: 40 },\n",
    "]\n",
    "\n",
    "const avenger2 = avengers.find(function (avenger) {\n",
    "  return avenger.name === 'Tony Stark'\n",
    "})\n",
    "\n",
    "console.log(avenger2)"
   ]
  },
  {
   "cell_type": "code",
   "execution_count": 6,
   "metadata": {},
   "outputs": [
    {
     "name": "stdout",
     "output_type": "stream",
     "text": [
      "{ name: 'Tony Stark', age: 45 }\n"
     ]
    }
   ],
   "source": [
    "\n",
    "const avengers3 = [\n",
    "  { name: 'Tony Stark', age: 45 },\n",
    "  { name: 'Steve Rogers', age: 32 },\n",
    "  { name: 'Thor', age: 40 },\n",
    "]\n",
    "\n",
    "const avenger3 = avengers.find( (avenger) => {\n",
    "  return avenger.name === 'Tony Stark'\n",
    "})\n",
    "\n",
    "console.log(avenger3)"
   ]
  },
  {
   "cell_type": "code",
   "execution_count": 7,
   "metadata": {},
   "outputs": [],
   "source": [
    "const arr = [1, 2, 3, 4, 5]\n",
    "\n",
    "const result = arr.some((elem) => {\n",
    "  return elem % 2 === 0\n",
    "})"
   ]
  },
  {
   "cell_type": "code",
   "execution_count": 8,
   "metadata": {},
   "outputs": [
    {
     "ename": "SyntaxError",
     "evalue": "Identifier 'result' has already been declared",
     "output_type": "error",
     "traceback": [
      "evalmachine.<anonymous>:1",
      "const arr2 = [1, 2, 3, 4, 5]",
      "^",
      "",
      "SyntaxError: Identifier 'result' has already been declared",
      "    at Script.runInThisContext (node:vm:129:12)",
      "    at Object.runInThisContext (node:vm:313:38)",
      "    at run ([eval]:1020:15)",
      "    at onRunRequest ([eval]:864:18)",
      "    at onMessage ([eval]:828:13)",
      "    at process.emit (node:events:513:28)",
      "    at emit (node:internal/child_process:946:14)",
      "    at processTicksAndRejections (node:internal/process/task_queues:84:21)"
     ]
    }
   ],
   "source": [
    "const arr2 = [1, 2, 3, 4, 5]\n",
    "\n",
    "const result = arr.some((elem) => {\n",
    "  return elem % 2 === 0\n",
    "})\n",
    "\n",
    "result"
   ]
  },
  {
   "cell_type": "code",
   "execution_count": 9,
   "metadata": {},
   "outputs": [
    {
     "data": {
      "text/plain": [
       "true"
      ]
     },
     "execution_count": 9,
     "metadata": {},
     "output_type": "execute_result"
    }
   ],
   "source": [
    "const arr3 = [1, 2, 3, 4, 5]\n",
    "\n",
    "const result2 = arr.some((elem) => {\n",
    "  return elem % 2 === 0\n",
    "})\n",
    "\n",
    "result2"
   ]
  },
  {
   "cell_type": "code",
   "execution_count": 10,
   "metadata": {},
   "outputs": [
    {
     "ename": "SyntaxError",
     "evalue": "Identifier 'arr3' has already been declared",
     "output_type": "error",
     "traceback": [
      "evalmachine.<anonymous>:1",
      "const arr3 = [1, 2, 3, 4, 5]",
      "^",
      "",
      "SyntaxError: Identifier 'arr3' has already been declared",
      "    at Script.runInThisContext (node:vm:129:12)",
      "    at Object.runInThisContext (node:vm:313:38)",
      "    at run ([eval]:1020:15)",
      "    at onRunRequest ([eval]:864:18)",
      "    at onMessage ([eval]:828:13)",
      "    at process.emit (node:events:513:28)",
      "    at emit (node:internal/child_process:946:14)",
      "    at processTicksAndRejections (node:internal/process/task_queues:84:21)"
     ]
    }
   ],
   "source": [
    "const arr3 = [1, 2, 3, 4, 5]\n",
    "\n",
    "const result3 = arr.every((elem) => {\n",
    "  return elem % 2 === 0\n",
    "})\n",
    "\n",
    "result3"
   ]
  },
  {
   "cell_type": "code",
   "execution_count": 11,
   "metadata": {},
   "outputs": [
    {
     "data": {
      "text/plain": [
       "false"
      ]
     },
     "execution_count": 11,
     "metadata": {},
     "output_type": "execute_result"
    }
   ],
   "source": [
    "const arr4 = [1, 2, 3, 4, 5]\n",
    "\n",
    "const result4 = arr.every((elem) => {\n",
    "  return elem % 2 === 0\n",
    "})\n",
    "\n",
    "result4"
   ]
  },
  {
   "cell_type": "code",
   "execution_count": 12,
   "metadata": {},
   "outputs": [
    {
     "name": "stdout",
     "output_type": "stream",
     "text": [
      "A\n",
      "B\n",
      "C\n",
      "D\n"
     ]
    }
   ],
   "source": [
    "const chars = ['A', 'B', 'C', 'D']\n",
    "\n",
    "for (const char of chars) {\n",
    "  console.log(char)\n",
    "}"
   ]
  },
  {
   "cell_type": "code",
   "execution_count": 13,
   "metadata": {},
   "outputs": [
    {
     "name": "stdout",
     "output_type": "stream",
     "text": [
      "0 A\n",
      "1 B\n",
      "2 C\n",
      "3 D\n"
     ]
    },
    {
     "ename": "ReferenceError",
     "evalue": "idx is not defined",
     "output_type": "error",
     "traceback": [
      "evalmachine.<anonymous>:7",
      "chars.forEach(chars1, idx)",
      "                      ^",
      "",
      "ReferenceError: idx is not defined",
      "    at evalmachine.<anonymous>:7:23",
      "    at Script.runInThisContext (node:vm:129:12)",
      "    at Object.runInThisContext (node:vm:313:38)",
      "    at run ([eval]:1020:15)",
      "    at onRunRequest ([eval]:864:18)",
      "    at onMessage ([eval]:828:13)",
      "    at process.emit (node:events:513:28)",
      "    at emit (node:internal/child_process:946:14)",
      "    at processTicksAndRejections (node:internal/process/task_queues:84:21)"
     ]
    }
   ],
   "source": [
    "const chars1 = ['A', 'B', 'C', 'D']\n",
    "\n",
    "chars.forEach((char, idx) => {\n",
    "  console.log(idx, char)\n",
    "})\n",
    "\n",
    "chars.forEach(chars1, idx)"
   ]
  },
  {
   "cell_type": "code",
   "execution_count": null,
   "metadata": {},
   "outputs": [],
   "source": []
  }
 ],
 "metadata": {
  "kernelspec": {
   "display_name": "JavaScript (Node.js)",
   "language": "javascript",
   "name": "javascript"
  },
  "language_info": {
   "file_extension": ".js",
   "mimetype": "application/javascript",
   "name": "javascript",
   "version": "16.18.0"
  },
  "orig_nbformat": 4
 },
 "nbformat": 4,
 "nbformat_minor": 2
}
