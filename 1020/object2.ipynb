{
 "cells": [
  {
   "cell_type": "code",
   "execution_count": 1,
   "metadata": {},
   "outputs": [
    {
     "name": "stdout",
     "output_type": "stream",
     "text": [
      "Hi\n"
     ]
    }
   ],
   "source": [
    "var obj = {\n",
    "  greeting: function () {\n",
    "    console.log('Hi')\n",
    "  }\n",
    "}\n",
    "\n",
    "obj.greeting()"
   ]
  },
  {
   "cell_type": "code",
   "execution_count": 2,
   "metadata": {},
   "outputs": [
    {
     "name": "stdout",
     "output_type": "stream",
     "text": [
      "Hi\n"
     ]
    }
   ],
   "source": [
    "var obj1 = {\n",
    "  greeting: function () {\n",
    "    console.log('Hi')\n",
    "  }\n",
    "}\n",
    "\n",
    "obj1.greeting()"
   ]
  },
  {
   "cell_type": "code",
   "execution_count": 3,
   "metadata": {},
   "outputs": [
    {
     "data": {
      "text/plain": [
       "[Function: greeting]"
      ]
     },
     "execution_count": 3,
     "metadata": {},
     "output_type": "execute_result"
    }
   ],
   "source": [
    "var obj2 = {\n",
    "  greeting: function () {\n",
    "    console.log('Hi')\n",
    "  }\n",
    "}\n",
    "\n",
    "obj2.greeting"
   ]
  },
  {
   "cell_type": "code",
   "execution_count": 4,
   "metadata": {},
   "outputs": [
    {
     "name": "stdout",
     "output_type": "stream",
     "text": [
      "{ country: [ '한국', '미국', '일본', '중국' ] }\n",
      "[ '한국', '미국', '일본', '중국' ]\n"
     ]
    }
   ],
   "source": [
    "const key = 'country'\n",
    "const value = ['한국', '미국', '일본', '중국']\n",
    "\n",
    "const myObj = {\n",
    "  [key]: value,\n",
    "}\n",
    "\n",
    "console.log(myObj)\n",
    "console.log(myObj.country)"
   ]
  },
  {
   "cell_type": "code",
   "execution_count": 6,
   "metadata": {},
   "outputs": [
    {
     "ename": "SyntaxError",
     "evalue": "Identifier 'userInformation' has already been declared",
     "output_type": "error",
     "traceback": [
      "evalmachine.<anonymous>:1",
      "const userInformation = {",
      "^",
      "",
      "SyntaxError: Identifier 'userInformation' has already been declared",
      "    at Script.runInThisContext (node:vm:129:12)",
      "    at Object.runInThisContext (node:vm:313:38)",
      "    at run ([eval]:1020:15)",
      "    at onRunRequest ([eval]:864:18)",
      "    at onMessage ([eval]:828:13)",
      "    at process.emit (node:events:513:28)",
      "    at emit (node:internal/child_process:946:14)",
      "    at processTicksAndRejections (node:internal/process/task_queues:84:21)"
     ]
    }
   ],
   "source": [
    "const userInformation = {\n",
    "  name: 'ssafy kim',\n",
    "  userId: 'ssafyStudent1234',\n",
    "  phoneNumber: '010-1234-1234',\n",
    "  email: 'ssafy@ssafy.com',\n",
    "}\n",
    "\n",
    "const name = userInformation.name\n",
    "const userId = userInformation.userId\n",
    "const phoneNumber = userInformation.phoneNumber\n",
    "const email = userInformation.email\n",
    "\n",
    "name\n",
    "userId\n",
    "phoneNumber\n",
    "email\n"
   ]
  },
  {
   "cell_type": "code",
   "execution_count": 7,
   "metadata": {},
   "outputs": [
    {
     "data": {
      "text/plain": [
       "'ssafy@ssafy.com'"
      ]
     },
     "execution_count": 7,
     "metadata": {},
     "output_type": "execute_result"
    }
   ],
   "source": [
    "const userInformation1 = {\n",
    "  name: 'ssafy kim',\n",
    "  userId: 'ssafyStudent1234',\n",
    "  phoneNumber: '010-1234-1234',\n",
    "  email: 'ssafy@ssafy.com',\n",
    "}\n",
    "\n",
    "const name1 = userInformation1.name\n",
    "const userId1 = userInformation1.userId\n",
    "const phoneNumber1 = userInformation1.phoneNumber\n",
    "const email1 = userInformation1.email\n",
    "\n",
    "name1\n",
    "userId1\n",
    "phoneNumber1\n",
    "email1"
   ]
  },
  {
   "cell_type": "code",
   "execution_count": 9,
   "metadata": {},
   "outputs": [
    {
     "ename": "SyntaxError",
     "evalue": "Identifier 'name3' has already been declared",
     "output_type": "error",
     "traceback": [
      "evalmachine.<anonymous>:13",
      "const { name3, userId3 } = userinformation3",
      "        ^",
      "",
      "SyntaxError: Identifier 'name3' has already been declared",
      "    at new Script (node:vm:100:7)",
      "    at createScript (node:vm:265:10)",
      "    at Object.runInThisContext (node:vm:313:10)",
      "    at run ([eval]:1020:15)",
      "    at onRunRequest ([eval]:864:18)",
      "    at onMessage ([eval]:828:13)",
      "    at process.emit (node:events:513:28)",
      "    at emit (node:internal/child_process:946:14)",
      "    at processTicksAndRejections (node:internal/process/task_queues:84:21)"
     ]
    }
   ],
   "source": [
    "const userinformation3 = {\n",
    "  name: 'ssafy kim',\n",
    "  userId: 'ssafyStudent1234',\n",
    "  phoneNumber: '010-1234-1234',\n",
    "  email: 'ssafy@ssafy.com',\n",
    "}\n",
    "\n",
    "const { name3 } = userinformation3\n",
    "const { userId3 } = userinformation3\n",
    "const { phoneNumber3 } = userinformation3\n",
    "const { email3 } = userinformation3\n",
    "\n",
    "const { name3, userId3 } = userinformation3"
   ]
  },
  {
   "cell_type": "code",
   "execution_count": 10,
   "metadata": {},
   "outputs": [
    {
     "name": "stdout",
     "output_type": "stream",
     "text": [
      "{ a: 1, b: 2, c: 3, d: 4, e: 5 }\n"
     ]
    }
   ],
   "source": [
    "const obj_1 = {b: 2, c: 3, d: 4}\n",
    "const new_obj = {a: 1, ...obj_1, e: 5}\n",
    "\n",
    "console.log(new_obj)"
   ]
  },
  {
   "cell_type": "code",
   "execution_count": 11,
   "metadata": {},
   "outputs": [
    {
     "name": "stdout",
     "output_type": "stream",
     "text": [
      "string\n",
      "{ coffe: 'Americano', iceCrean: 'Cookie and Cream' }\n",
      "object\n"
     ]
    }
   ],
   "source": [
    "const jsobject = {\n",
    "  coffe: 'Americano',\n",
    "  iceCrean: 'Cookie and Cream',\n",
    "}\n",
    "\n",
    "// object -> json\n",
    "const objtojson = JSON.stringify(jsobject)\n",
    "console.log(typeof objtojson)\n",
    "\n",
    "\n",
    "// json -> object\n",
    "const jsontoobj = JSON.parse(objtojson)\n",
    "\n",
    "console.log(jsontoobj)\n",
    "console.log(typeof jsontoobj)"
   ]
  },
  {
   "cell_type": "code",
   "execution_count": null,
   "metadata": {},
   "outputs": [],
   "source": []
  },
  {
   "cell_type": "code",
   "execution_count": null,
   "metadata": {},
   "outputs": [],
   "source": []
  }
 ],
 "metadata": {
  "kernelspec": {
   "display_name": "JavaScript (Node.js)",
   "language": "javascript",
   "name": "javascript"
  },
  "language_info": {
   "file_extension": ".js",
   "mimetype": "application/javascript",
   "name": "javascript",
   "version": "16.18.0"
  },
  "orig_nbformat": 4
 },
 "nbformat": 4,
 "nbformat_minor": 2
}
