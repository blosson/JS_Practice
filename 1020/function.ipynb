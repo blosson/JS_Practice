{
 "cells": [
  {
   "cell_type": "code",
   "execution_count": 1,
   "metadata": {},
   "outputs": [],
   "source": [
    "const sub = function (num1, num2) {\n",
    "  return num1 - num2\n",
    "}"
   ]
  },
  {
   "cell_type": "code",
   "execution_count": 2,
   "metadata": {},
   "outputs": [
    {
     "data": {
      "text/plain": [
       "2"
      ]
     },
     "execution_count": 2,
     "metadata": {},
     "output_type": "execute_result"
    }
   ],
   "source": [
    "const sub2 = function (num1, num2) {\n",
    "  return num1 - num2\n",
    "}\n",
    "\n",
    "sub2(5, 3)"
   ]
  },
  {
   "cell_type": "code",
   "execution_count": 3,
   "metadata": {},
   "outputs": [
    {
     "ename": "ReferenceError",
     "evalue": "namesub is not defined",
     "output_type": "error",
     "traceback": [
      "evalmachine.<anonymous>:6",
      "namesub(1, 2)",
      "^",
      "",
      "ReferenceError: namesub is not defined",
      "    at evalmachine.<anonymous>:6:1",
      "    at Script.runInThisContext (node:vm:129:12)",
      "    at Object.runInThisContext (node:vm:313:38)",
      "    at run ([eval]:1020:15)",
      "    at onRunRequest ([eval]:864:18)",
      "    at onMessage ([eval]:828:13)",
      "    at process.emit (node:events:513:28)",
      "    at emit (node:internal/child_process:946:14)",
      "    at processTicksAndRejections (node:internal/process/task_queues:84:21)"
     ]
    }
   ],
   "source": [
    "const mysub = function namesub(num1, num2) {\n",
    "  return num1 - num2\n",
    "}\n",
    "\n",
    "mysub(1, 2)\n",
    "namesub(1, 2)"
   ]
  },
  {
   "cell_type": "code",
   "execution_count": 4,
   "metadata": {},
   "outputs": [
    {
     "data": {
      "text/plain": [
       "'Hi Anonymous'"
      ]
     },
     "execution_count": 4,
     "metadata": {},
     "output_type": "execute_result"
    }
   ],
   "source": [
    "const greeting = function (name = 'Anonymous') {\n",
    "  return `Hi ${name}`\n",
    "}\n",
    "\n",
    "greeting()"
   ]
  },
  {
   "cell_type": "code",
   "execution_count": 5,
   "metadata": {},
   "outputs": [
    {
     "data": {
      "text/plain": [
       "[ 1, 2 ]"
      ]
     },
     "execution_count": 5,
     "metadata": {},
     "output_type": "execute_result"
    }
   ],
   "source": [
    "const noArgs = function() {\n",
    "  return 0\n",
    "}\n",
    "\n",
    "noArgs(1, 2, 3)\n",
    "\n",
    "const twoArgs = function (arg1,arg2) {\n",
    "  return [arg1, arg2]\n",
    "}\n",
    "\n",
    "twoArgs(1, 2, 3)"
   ]
  },
  {
   "cell_type": "code",
   "execution_count": 6,
   "metadata": {},
   "outputs": [
    {
     "data": {
      "text/plain": [
       "[ 1, 2, undefined ]"
      ]
     },
     "execution_count": 6,
     "metadata": {},
     "output_type": "execute_result"
    }
   ],
   "source": [
    "const threeArgs = function (arg1, arg2, arg3) {\n",
    "  return [arg1, arg2, arg3]\n",
    "}\n",
    "\n",
    "threeArgs()\n",
    "threeArgs(1)\n",
    "threeArgs(1, 2)"
   ]
  },
  {
   "cell_type": "code",
   "execution_count": 7,
   "metadata": {},
   "outputs": [
    {
     "data": {
      "text/plain": [
       "[ 'head', 'sholders', 'knees', 'and', 'toes' ]"
      ]
     },
     "execution_count": 7,
     "metadata": {},
     "output_type": "execute_result"
    }
   ],
   "source": [
    "// sperad syntax = asterisk\n",
    "\n",
    "let parts = ['sholders', 'knees']\n",
    "let lyrics = ['head', ...parts, 'and', 'toes']\n",
    "\n",
    "lyrics"
   ]
  },
  {
   "cell_type": "code",
   "execution_count": 8,
   "metadata": {},
   "outputs": [
    {
     "name": "stdout",
     "output_type": "stream",
     "text": [
      "[ 1, 2, [] ]\n"
     ]
    },
    {
     "data": {
      "text/plain": [
       "[ 1, 2, [ 3, 4, 5 ] ]"
      ]
     },
     "execution_count": 8,
     "metadata": {},
     "output_type": "execute_result"
    }
   ],
   "source": [
    "const rest_para = function (arg1, arg2, ...restArgs) {\n",
    "  return [arg1, arg2, restArgs]\n",
    "}\n",
    "\n",
    "console.log(rest_para(1, 2))\n",
    "rest_para(1, 2, 3, 4, 5)"
   ]
  },
  {
   "cell_type": "code",
   "execution_count": 9,
   "metadata": {},
   "outputs": [
    {
     "data": {
      "text/plain": [
       "9"
      ]
     },
     "execution_count": 9,
     "metadata": {},
     "output_type": "execute_result"
    }
   ],
   "source": [
    "add(2, 7)\n",
    "\n",
    "function add (num1, num2) {\n",
    "  return num1 + num2\n",
    "}"
   ]
  },
  {
   "cell_type": "code",
   "execution_count": 10,
   "metadata": {},
   "outputs": [
    {
     "ename": "SyntaxError",
     "evalue": "Identifier 'sub' has already been declared",
     "output_type": "error",
     "traceback": [
      "evalmachine.<anonymous>:1",
      "sub(7, 2)",
      "^",
      "",
      "SyntaxError: Identifier 'sub' has already been declared",
      "    at Script.runInThisContext (node:vm:129:12)",
      "    at Object.runInThisContext (node:vm:313:38)",
      "    at run ([eval]:1020:15)",
      "    at onRunRequest ([eval]:864:18)",
      "    at onMessage ([eval]:828:13)",
      "    at process.emit (node:events:513:28)",
      "    at emit (node:internal/child_process:946:14)",
      "    at processTicksAndRejections (node:internal/process/task_queues:84:21)"
     ]
    }
   ],
   "source": [
    "sub(7, 2)\n",
    "\n",
    "const sub = function (num1, num2) {\n",
    "  return num1 - num2\n",
    "}"
   ]
  },
  {
   "cell_type": "code",
   "execution_count": 11,
   "metadata": {},
   "outputs": [
    {
     "data": {
      "text/plain": [
       "5"
      ]
     },
     "execution_count": 11,
     "metadata": {},
     "output_type": "execute_result"
    }
   ],
   "source": [
    "const sub1 = function (num1, num2) {\n",
    "  return num1 - num2\n",
    "}\n",
    "\n",
    "sub1(7, 2)"
   ]
  },
  {
   "cell_type": "code",
   "execution_count": 12,
   "metadata": {},
   "outputs": [
    {
     "ename": "ReferenceError",
     "evalue": "son is not defined",
     "output_type": "error",
     "traceback": [
      "evalmachine.<anonymous>:11",
      "arrow4(son)",
      "       ^",
      "",
      "ReferenceError: son is not defined",
      "    at evalmachine.<anonymous>:11:8",
      "    at Script.runInThisContext (node:vm:129:12)",
      "    at Object.runInThisContext (node:vm:313:38)",
      "    at run ([eval]:1020:15)",
      "    at onRunRequest ([eval]:864:18)",
      "    at onMessage ([eval]:828:13)",
      "    at process.emit (node:events:513:28)",
      "    at emit (node:internal/child_process:946:14)",
      "    at processTicksAndRejections (node:internal/process/task_queues:84:21)"
     ]
    }
   ],
   "source": [
    "const arrow1 = function (name) {\n",
    "  return `hello, ${name}`\n",
    "}\n",
    "\n",
    "const arrow2 = (name) => { return `hello, ${name}` }\n",
    "\n",
    "const arrow3 = name => { return `hello, ${name}` }\n",
    "\n",
    "const arrow4 = name => `hello, ${name}`\n",
    "\n",
    "arrow4(son)\n",
    "\n"
   ]
  },
  {
   "cell_type": "code",
   "execution_count": 13,
   "metadata": {},
   "outputs": [
    {
     "ename": "SyntaxError",
     "evalue": "Identifier 'noArgs' has already been declared",
     "output_type": "error",
     "traceback": [
      "evalmachine.<anonymous>:1",
      "let noArgs = () => 'No args'",
      "^",
      "",
      "SyntaxError: Identifier 'noArgs' has already been declared",
      "    at Script.runInThisContext (node:vm:129:12)",
      "    at Object.runInThisContext (node:vm:313:38)",
      "    at run ([eval]:1020:15)",
      "    at onRunRequest ([eval]:864:18)",
      "    at onMessage ([eval]:828:13)",
      "    at process.emit (node:events:513:28)",
      "    at emit (node:internal/child_process:946:14)",
      "    at processTicksAndRejections (node:internal/process/task_queues:84:21)"
     ]
    }
   ],
   "source": [
    "let noArgs = () => 'No args'\n",
    "noArgs = _ => 'No args'"
   ]
  },
  {
   "cell_type": "code",
   "execution_count": 14,
   "metadata": {},
   "outputs": [
    {
     "data": {
      "text/plain": [
       "8"
      ]
     },
     "execution_count": 14,
     "metadata": {},
     "output_type": "execute_result"
    }
   ],
   "source": [
    "(function(num) { return num ** 3})(2)"
   ]
  },
  {
   "cell_type": "code",
   "execution_count": 15,
   "metadata": {},
   "outputs": [
    {
     "data": {
      "text/plain": [
       "8"
      ]
     },
     "execution_count": 15,
     "metadata": {},
     "output_type": "execute_result"
    }
   ],
   "source": [
    "(num => num ** 3)(2)"
   ]
  },
  {
   "cell_type": "code",
   "execution_count": null,
   "metadata": {},
   "outputs": [],
   "source": []
  }
 ],
 "metadata": {
  "kernelspec": {
   "display_name": "JavaScript (Node.js)",
   "language": "javascript",
   "name": "javascript"
  },
  "language_info": {
   "file_extension": ".js",
   "mimetype": "application/javascript",
   "name": "javascript",
   "version": "16.18.0"
  },
  "orig_nbformat": 4
 },
 "nbformat": 4,
 "nbformat_minor": 2
}
