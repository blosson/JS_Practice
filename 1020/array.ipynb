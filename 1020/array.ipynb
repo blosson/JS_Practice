{
 "cells": [
  {
   "cell_type": "code",
   "execution_count": 3,
   "metadata": {},
   "outputs": [
    {
     "name": "stdout",
     "output_type": "stream",
     "text": [
      "1\n",
      "undefined\n",
      "5\n"
     ]
    }
   ],
   "source": [
    "const numbers1 = [1, 2, 3, 4, 5]\n",
    "\n",
    "console.log(numbers1[0])\n",
    "console.log(numbers1[-1])\n",
    "console.log(numbers1.length)"
   ]
  },
  {
   "cell_type": "code",
   "execution_count": 4,
   "metadata": {},
   "outputs": [
    {
     "name": "stdout",
     "output_type": "stream",
     "text": [
      "5\n"
     ]
    }
   ],
   "source": [
    "const number2 = [1, 2, 3, 4, 5]\n",
    "\n",
    "console.log(numbers[numbers.length - 1])"
   ]
  },
  {
   "cell_type": "code",
   "execution_count": 5,
   "metadata": {},
   "outputs": [
    {
     "name": "stdout",
     "output_type": "stream",
     "text": [
      "[ 5, 4, 3, 2, 1 ]\n"
     ]
    }
   ],
   "source": [
    "const numbers3 = [1, 2, 3, 4, 5]\n",
    "numbers3.reverse()\n",
    "\n",
    "console.log(numbers3)\n"
   ]
  },
  {
   "cell_type": "code",
   "execution_count": 6,
   "metadata": {},
   "outputs": [
    {
     "name": "stdout",
     "output_type": "stream",
     "text": [
      "[ 1, 2, 3, 4, 5, 100 ]\n",
      "[ 1, 2, 3, 4, 5 ]\n"
     ]
    }
   ],
   "source": [
    "const numbers4 = [1, 2, 3, 4, 5]\n",
    "\n",
    "numbers4.push(100)\n",
    "console.log(numbers4)\n",
    "\n",
    "numbers4.pop()\n",
    "console.log(numbers4)"
   ]
  },
  {
   "cell_type": "code",
   "execution_count": 7,
   "metadata": {},
   "outputs": [
    {
     "name": "stdout",
     "output_type": "stream",
     "text": [
      "true\n",
      "false\n"
     ]
    }
   ],
   "source": [
    "const numbers5 = [1, 2, 3, 4, 5]\n",
    "\n",
    "console.log(numbers5.includes(1))\n",
    "console.log(numbers5.includes(100))"
   ]
  },
  {
   "cell_type": "code",
   "execution_count": 9,
   "metadata": {},
   "outputs": [
    {
     "ename": "SyntaxError",
     "evalue": "Identifier 'result' has already been declared",
     "output_type": "error",
     "traceback": [
      "evalmachine.<anonymous>:1",
      "const numbers7 = [1, 2, 3, 4, 5]",
      "^",
      "",
      "SyntaxError: Identifier 'result' has already been declared",
      "    at Script.runInThisContext (node:vm:129:12)",
      "    at Object.runInThisContext (node:vm:313:38)",
      "    at run ([eval]:1020:15)",
      "    at onRunRequest ([eval]:864:18)",
      "    at onMessage ([eval]:828:13)",
      "    at process.emit (node:events:513:28)",
      "    at emit (node:internal/child_process:946:14)",
      "    at processTicksAndRejections (node:internal/process/task_queues:84:21)"
     ]
    }
   ],
   "source": [
    "const numbers7 = [1, 2, 3, 4, 5]\n",
    "let result\n",
    "\n",
    "result3 = numbers7.indexOf(3)\n",
    "console.log(result3)\n",
    "\n",
    "result2 = numbers7.indexOf(100)\n",
    "console.log(result2)"
   ]
  },
  {
   "cell_type": "code",
   "execution_count": 10,
   "metadata": {},
   "outputs": [
    {
     "name": "stdout",
     "output_type": "stream",
     "text": [
      "2\n",
      "-1\n"
     ]
    }
   ],
   "source": [
    "const numbers8 = [1, 2, 3, 4, 5]\n",
    "let result4\n",
    "\n",
    "result4 = numbers8.indexOf(3)\n",
    "console.log(result4)\n",
    "\n",
    "result5 = numbers8.indexOf(100)\n",
    "console.log(result5)"
   ]
  },
  {
   "cell_type": "code",
   "execution_count": 11,
   "metadata": {},
   "outputs": [
    {
     "name": "stdout",
     "output_type": "stream",
     "text": [
      "1,2,3,4,5\n",
      "12345\n",
      "1 2 3 4 5\n",
      "1-2-3-4-5\n"
     ]
    }
   ],
   "source": [
    "const numbers9 = [1, 2, 3, 4, 5]\n",
    "let ans\n",
    "\n",
    "ans = numbers9.join()\n",
    "console.log(ans)\n",
    "\n",
    "ans2 = numbers9.join('')\n",
    "console.log(ans2)\n",
    "\n",
    "ans3 = numbers9.join(' ')\n",
    "console.log(ans3)\n",
    "\n",
    "ans4 = numbers9.join('-')\n",
    "console.log(ans4)\n",
    "\n"
   ]
  },
  {
   "cell_type": "code",
   "execution_count": 12,
   "metadata": {},
   "outputs": [
    {
     "name": "stdout",
     "output_type": "stream",
     "text": [
      "1,2,3,4,5\n"
     ]
    }
   ],
   "source": [
    "const numbers10 = [1, 2, 3, 4, 5]\n",
    "let ans5\n",
    "\n",
    "ans5 = numbers10.join(',')\n",
    "console.log(ans5)"
   ]
  },
  {
   "cell_type": "code",
   "execution_count": 16,
   "metadata": {},
   "outputs": [
    {
     "ename": "SyntaxError",
     "evalue": "Identifier 'colors' has already been declared",
     "output_type": "error",
     "traceback": [
      "evalmachine.<anonymous>:1",
      "const colors = ['red', 'blue', 'green']",
      "^",
      "",
      "SyntaxError: Identifier 'colors' has already been declared",
      "    at Script.runInThisContext (node:vm:129:12)",
      "    at Object.runInThisContext (node:vm:313:38)",
      "    at run ([eval]:1020:15)",
      "    at onRunRequest ([eval]:864:18)",
      "    at onMessage ([eval]:828:13)",
      "    at process.emit (node:events:513:28)",
      "    at emit (node:internal/child_process:946:14)",
      "    at processTicksAndRejections (node:internal/process/task_queues:84:21)"
     ]
    }
   ],
   "source": [
    "// forEach\n",
    "\n",
    "const colors = ['red', 'blue', 'green']\n",
    "\n",
    "printFunc = function (color) {\n",
    "  console.log(color)\n",
    "}\n",
    "\n",
    "colors.forEach(printFunc)\n",
    "\n",
    "// 2\n",
    "colors.forEach(function (color) {\n",
    "  console.log(color)\n",
    "})\n",
    "\n",
    "// 3\n",
    "colors.forEach((color) => {\n",
    "  return console.log(color)\n",
    "})"
   ]
  },
  {
   "cell_type": "code",
   "execution_count": 17,
   "metadata": {},
   "outputs": [
    {
     "name": "stdout",
     "output_type": "stream",
     "text": [
      "[ 2, 4, 6 ]\n"
     ]
    }
   ],
   "source": [
    "// map\n",
    "\n",
    "const numbers_1 = [1, 2, 3]\n",
    "\n",
    "// 함수 정의\n",
    "const doubleFunc = function (number) {\n",
    "  return number * 2\n",
    "}\n",
    "\n",
    "// 함수를 다른 함수의 인자로 넣기 (콜백 함수)\n",
    "const doubleNumbers = numbers_1.map(doubleFunc)\n",
    "console.log(doubleNumbers)\n",
    "\n",
    "\n",
    "// 2\n",
    "const doubleNumbers = numbers_1.map(function (number) {\n",
    "  return number * 2\n",
    "})\n",
    "\n",
    "// 3\n",
    "const doubleNumbers = numbers.map((number) => {\n",
    "  return number * 2\n",
    "})"
   ]
  },
  {
   "cell_type": "code",
   "execution_count": 20,
   "metadata": {},
   "outputs": [
    {
     "ename": "ReferenceError",
     "evalue": "itmes is not defined",
     "output_type": "error",
     "traceback": [
      "evalmachine.<anonymous>:15",
      "const fruits1 = itmes.filter(fruitFilter1)",
      "                ^",
      "",
      "ReferenceError: itmes is not defined",
      "    at evalmachine.<anonymous>:15:17",
      "    at Script.runInThisContext (node:vm:129:12)",
      "    at Object.runInThisContext (node:vm:313:38)",
      "    at run ([eval]:1020:15)",
      "    at onRunRequest ([eval]:864:18)",
      "    at onMessage ([eval]:828:13)",
      "    at process.emit (node:events:513:28)",
      "    at emit (node:internal/child_process:946:14)",
      "    at processTicksAndRejections (node:internal/process/task_queues:84:21)"
     ]
    }
   ],
   "source": [
    "// filter\n",
    "\n",
    "const items = [\n",
    "  { name: 'cucumber', type: 'vegetable'},\n",
    "  { name: 'bananar', type: 'fruit'},\n",
    "  { name: 'carrot', type: 'vegetable'},\n",
    "  { name: 'apple', type: 'fruit'},\n",
    "]\n",
    "\n",
    "// 함수정의\n",
    "const fruitFilter1 = function (proudct) {\n",
    "  return product.type === 'fruit'\n",
    "}\n",
    "\n",
    "const fruits1 = itmes.filter(fruitFilter1)\n",
    "\n",
    "console.log(fruits)\n"
   ]
  },
  {
   "cell_type": "code",
   "execution_count": null,
   "metadata": {},
   "outputs": [],
   "source": []
  },
  {
   "cell_type": "code",
   "execution_count": null,
   "metadata": {},
   "outputs": [],
   "source": []
  },
  {
   "cell_type": "code",
   "execution_count": null,
   "metadata": {},
   "outputs": [],
   "source": []
  }
 ],
 "metadata": {
  "kernelspec": {
   "display_name": "JavaScript (Node.js)",
   "language": "javascript",
   "name": "javascript"
  },
  "language_info": {
   "file_extension": ".js",
   "mimetype": "application/javascript",
   "name": "javascript",
   "version": "16.18.0"
  },
  "orig_nbformat": 4
 },
 "nbformat": 4,
 "nbformat_minor": 2
}
