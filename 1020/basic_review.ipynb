{
 "cells": [
  {
   "cell_type": "code",
   "execution_count": 4,
   "metadata": {},
   "outputs": [
    {
     "name": "stdout",
     "output_type": "stream",
     "text": [
      "매니저님 환영합니다.\n"
     ]
    }
   ],
   "source": [
    "const name1 = 'manager'\n",
    "\n",
    "if (name1 === 'admin') {\n",
    "  console.log('관리자 하윙')\n",
    "} else if (name1 === 'manager') {\n",
    "  console.log('매니저님 환영합니다.')\n",
    "} else {\n",
    "  console.log(`${name1}님 환영합니다.`)\n",
    "}"
   ]
  },
  {
   "cell_type": "code",
   "execution_count": 10,
   "metadata": {},
   "outputs": [
    {
     "name": "stdout",
     "output_type": "stream",
     "text": [
      "멍멍 ㅎㅇ\n",
      "매니저 ㅎㅇ\n",
      "홍길동님 ㅎㅇ\n"
     ]
    }
   ],
   "source": [
    "const person = '홍길동'\n",
    "\n",
    "switch(person\n",
    ") {\n",
    "  case '홍길동' : {\n",
    "    console.log('멍멍 ㅎㅇ')\n",
    "  }\n",
    "  case 'manager' : {\n",
    "    console.log('매니저 ㅎㅇ')\n",
    "  }\n",
    "  default : {\n",
    "    console.log(`${person\n",
    "}님 ㅎㅇ`)\n",
    "  }\n",
    "}"
   ]
  },
  {
   "cell_type": "code",
   "execution_count": 12,
   "metadata": {},
   "outputs": [
    {
     "ename": "SyntaxError",
     "evalue": "Identifier 'cat' has already been declared",
     "output_type": "error",
     "traceback": [
      "evalmachine.<anonymous>:1",
      "const cat = '홍길동'",
      "^",
      "",
      "SyntaxError: Identifier 'cat' has already been declared",
      "    at Script.runInThisContext (node:vm:129:12)",
      "    at Object.runInThisContext (node:vm:313:38)",
      "    at run ([eval]:1020:15)",
      "    at onRunRequest ([eval]:864:18)",
      "    at onMessage ([eval]:828:13)",
      "    at process.emit (node:events:513:28)",
      "    at emit (node:internal/child_process:946:14)",
      "    at processTicksAndRejections (node:internal/process/task_queues:84:21)"
     ]
    }
   ],
   "source": [
    "const cat = '홍길동'\n",
    "\n",
    "switch(name) {\n",
    "  case '홍길동': {\n",
    "    console.log('홍길동씨 ㅎㅇ')\n",
    "    break\n",
    "  }\n",
    "  case 'manager': {\n",
    "    console.log('매니저님 ㅎㅇ')\n",
    "    break\n",
    "  }\n",
    "  default: {\n",
    "    console.log(`${name}님 환영합니다.`)\n",
    "  }\n",
    "}"
   ]
  },
  {
   "cell_type": "code",
   "execution_count": 13,
   "metadata": {},
   "outputs": [
    {
     "name": "stdout",
     "output_type": "stream",
     "text": [
      "15\n"
     ]
    }
   ],
   "source": [
    "const num1 = 5\n",
    "const num2 = 10\n",
    "let operator = '+'\n",
    "\n",
    "if (operator === '+') {\n",
    "  console.log(num1 + num2)\n",
    "} else if (operator === '-') {\n",
    "  console.log(num1 - num2)\n",
    "} else if (operator === '*') {\n",
    "  console.log(num1 * num2)\n",
    "} else if (operator === '/') {\n",
    "  console.log(num1 / num2)\n",
    "} else {\n",
    "  console.log('다시 읽어보고 와라')\n",
    "}"
   ]
  },
  {
   "cell_type": "code",
   "execution_count": 15,
   "metadata": {},
   "outputs": [
    {
     "name": "stdout",
     "output_type": "stream",
     "text": [
      "-5\n"
     ]
    }
   ],
   "source": [
    "const num3 = 5\n",
    "const num4 = 10\n",
    "let operator1 = '-'\n",
    "\n",
    "switch(operator1) {\n",
    "  case '+': {\n",
    "    console.log(num3 + num4)\n",
    "    break\n",
    "  }\n",
    "  case '-': {\n",
    "    console.log(num3 - num4)\n",
    "    break\n",
    "  }\n",
    "  case '*': {\n",
    "    console.log(num3 * num4)\n",
    "    break\n",
    "  }\n",
    "  case '/': {\n",
    "    console.log(num3 / num4)\n",
    "    break\n",
    "  }\n",
    "  default: {\n",
    "    console.log('다시 읽어보고 와라')\n",
    "  }\n",
    "}"
   ]
  },
  {
   "cell_type": "code",
   "execution_count": 18,
   "metadata": {},
   "outputs": [
    {
     "name": "stdout",
     "output_type": "stream",
     "text": [
      "0\n",
      "1\n",
      "2\n",
      "3\n",
      "4\n",
      "5\n"
     ]
    },
    {
     "data": {
      "text/plain": [
       "6"
      ]
     },
     "execution_count": 18,
     "metadata": {},
     "output_type": "execute_result"
    }
   ],
   "source": [
    "let i1 = 0\n",
    "\n",
    "while (i1 < 6) {\n",
    "  console.log(i1)\n",
    "  i1+= 1\n",
    "}"
   ]
  },
  {
   "cell_type": "code",
   "execution_count": 21,
   "metadata": {},
   "outputs": [
    {
     "name": "stdout",
     "output_type": "stream",
     "text": [
      "0\n",
      "1\n",
      "2\n",
      "3\n",
      "4\n",
      "5\n"
     ]
    }
   ],
   "source": [
    "for (let a = 0; a < 6; a++) {\n",
    "  console.log(a)\n",
    "}"
   ]
  },
  {
   "cell_type": "code",
   "execution_count": 22,
   "metadata": {},
   "outputs": [
    {
     "name": "stdout",
     "output_type": "stream",
     "text": [
      "a\n",
      "apple\n",
      "b\n",
      "banana\n"
     ]
    }
   ],
   "source": [
    "const fruits = { a: 'apple', b: 'banana' }\n",
    "\n",
    "for (const key in fruits) {\n",
    "  console.log(key)\n",
    "  console.log(fruits[key])\n",
    "}"
   ]
  },
  {
   "cell_type": "code",
   "execution_count": 25,
   "metadata": {},
   "outputs": [
    {
     "ename": "SyntaxError",
     "evalue": "Identifier 'numbers' has already been declared",
     "output_type": "error",
     "traceback": [
      "evalmachine.<anonymous>:1",
      "const numbers = [0, 1, 2, 3]",
      "^",
      "",
      "SyntaxError: Identifier 'numbers' has already been declared",
      "    at Script.runInThisContext (node:vm:129:12)",
      "    at Object.runInThisContext (node:vm:313:38)",
      "    at run ([eval]:1020:15)",
      "    at onRunRequest ([eval]:864:18)",
      "    at onMessage ([eval]:828:13)",
      "    at process.emit (node:events:513:28)",
      "    at emit (node:internal/child_process:946:14)",
      "    at processTicksAndRejections (node:internal/process/task_queues:84:21)"
     ]
    }
   ],
   "source": [
    "const numbers = [0, 1, 2, 3]\n",
    "\n",
    "for (const number of numbers) {\n",
    "  console.log(number)\n",
    "}"
   ]
  },
  {
   "cell_type": "code",
   "execution_count": 26,
   "metadata": {},
   "outputs": [
    {
     "name": "stdout",
     "output_type": "stream",
     "text": [
      "1\n",
      "2\n",
      "3\n",
      "4\n",
      "5\n"
     ]
    }
   ],
   "source": [
    "const numbers2 = [1, 2, 3, 4, 5]\n",
    "\n",
    "for (const number2 of numbers2) {\n",
    "  console.log(number2)\n",
    "}"
   ]
  },
  {
   "cell_type": "code",
   "execution_count": 29,
   "metadata": {},
   "outputs": [
    {
     "name": "stdout",
     "output_type": "stream",
     "text": [
      "0\n",
      "1\n",
      "2\n",
      "3\n",
      "3\n",
      "5\n",
      "7\n",
      "9\n"
     ]
    }
   ],
   "source": [
    "const arr2 = [3, 5, 7, 9]\n",
    "\n",
    "for (const b2 in arr) {\n",
    "  console.log(b2)\n",
    "}\n",
    "\n",
    "for (const c2 of arr) {\n",
    "  console.log(c2)\n",
    "}"
   ]
  },
  {
   "cell_type": "code",
   "execution_count": null,
   "metadata": {},
   "outputs": [],
   "source": []
  },
  {
   "cell_type": "code",
   "execution_count": null,
   "metadata": {},
   "outputs": [],
   "source": []
  }
 ],
 "metadata": {
  "kernelspec": {
   "display_name": "JavaScript (Node.js)",
   "language": "javascript",
   "name": "javascript"
  },
  "language_info": {
   "file_extension": ".js",
   "mimetype": "application/javascript",
   "name": "javascript",
   "version": "16.18.0"
  },
  "orig_nbformat": 4
 },
 "nbformat": 4,
 "nbformat_minor": 2
}
