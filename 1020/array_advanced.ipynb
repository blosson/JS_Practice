{
 "cells": [
  {
   "cell_type": "code",
   "execution_count": 1,
   "metadata": {},
   "outputs": [
    {
     "name": "stdout",
     "output_type": "stream",
     "text": [
      "[ { name: 'banana', type: 'fruit' }, { name: 'apple', type: 'fruit' } ]\n"
     ]
    }
   ],
   "source": [
    "const products = [\n",
    "  { name: 'cucumber', type: 'vegetable' },\n",
    "  { name: 'banana', type: 'fruit' },\n",
    "  { name: 'carrot', type: 'vegetable' },\n",
    "  { name: 'apple', type: 'fruit' },\n",
    "]\n",
    "\n",
    "const fruitFilter = function (product) {\n",
    "  return product.type === 'fruit'\n",
    "}\n",
    "\n",
    "const fruits = products.filter(fruitFilter)\n",
    "\n",
    "console.log(fruits)\n",
    "\n",
    "// 2\n",
    "\n",
    "const fruits = product.filter(function (product) {\n",
    "  return product.type === 'fruit'\n",
    "})\n",
    "\n",
    "\n",
    "// 3\n",
    "const fruits = proudcts.filter((product) => {\n",
    "  return product.type === 'fruit'\n",
    "})"
   ]
  },
  {
   "cell_type": "code",
   "execution_count": 2,
   "metadata": {},
   "outputs": [],
   "source": [
    "// reduce\n",
    "\n",
    "const test = [90, 90, 80, 77]\n",
    "\n",
    "// 총합\n",
    "const sum = test.reduce(function (total, x) {\n",
    "  return total + x\n",
    "}, 0)\n",
    "\n",
    "// 화살표 함수\n",
    "const sum = test.reduce((total, x) => total + x, 0)\n",
    "\n",
    "// 평균\n",
    "const sum = test.reduce((total, x) => total + x, 0) / test.length\n"
   ]
  },
  {
   "cell_type": "code",
   "execution_count": 3,
   "metadata": {},
   "outputs": [
    {
     "ename": "SyntaxError",
     "evalue": "Malformed arrow function parameter list",
     "output_type": "error",
     "traceback": [
      "evalmachine.<anonymous>:11",
      "const avenger = avengers.find((avenger)) => {",
      "                         ^^^^^^^^^^^^^^",
      "",
      "SyntaxError: Malformed arrow function parameter list",
      "    at new Script (node:vm:100:7)",
      "    at createScript (node:vm:265:10)",
      "    at Object.runInThisContext (node:vm:313:10)",
      "    at run ([eval]:1020:15)",
      "    at onRunRequest ([eval]:864:18)",
      "    at onMessage ([eval]:828:13)",
      "    at process.emit (node:events:513:28)",
      "    at emit (node:internal/child_process:946:14)",
      "    at processTicksAndRejections (node:internal/process/task_queues:84:21)"
     ]
    }
   ],
   "source": [
    "const avengers = [\n",
    "  { name: 'Tony Stark', age: 45 },\n",
    "  { name: 'Steve Rogers', age: 32 },\n",
    "  { name: 'Thor', age: 40 },\n",
    "]\n",
    "\n",
    "// const avenger = avengers.find(function (avenger) {\n",
    "//   return avenger.name === 'Tony Stark'\n",
    "// })\n",
    "\n",
    "const avenger = avengers.find((avenger)) => {\n",
    "  return avenger.name === 'Tony Stark'\n",
    "}"
   ]
  },
  {
   "cell_type": "code",
   "execution_count": null,
   "metadata": {},
   "outputs": [],
   "source": []
  }
 ],
 "metadata": {
  "kernelspec": {
   "display_name": "JavaScript (Node.js)",
   "language": "javascript",
   "name": "javascript"
  },
  "language_info": {
   "file_extension": ".js",
   "mimetype": "application/javascript",
   "name": "javascript",
   "version": "16.18.0"
  },
  "orig_nbformat": 4
 },
 "nbformat": 4,
 "nbformat_minor": 2
}
