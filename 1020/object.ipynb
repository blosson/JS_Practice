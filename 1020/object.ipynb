{
 "cells": [
  {
   "cell_type": "code",
   "execution_count": 2,
   "metadata": {},
   "outputs": [
    {
     "name": "stdout",
     "output_type": "stream",
     "text": [
      "jack\n",
      "jack\n",
      "{ buds: 'galaxy buds pro', galaxy: 'galaxy s99' }\n",
      "galaxy buds pro\n"
     ]
    }
   ],
   "source": [
    "const me = {\n",
    "  name: 'jack',\n",
    "  phoneNumber: '01012345678',\n",
    "  'samsung products': {\n",
    "    buds: 'galaxy buds pro',\n",
    "    galaxy: 'galaxy s99',\n",
    "  },\n",
    "}\n",
    "\n",
    "console.log(me.name)\n",
    "console.log(me['name'])\n",
    "console.log(me['samsung products'])\n",
    "console.log(me['samsung products'].buds)"
   ]
  },
  {
   "cell_type": "code",
   "execution_count": 4,
   "metadata": {},
   "outputs": [
    {
     "ename": "ReferenceError",
     "evalue": "books2 is not defined",
     "output_type": "error",
     "traceback": [
      "evalmachine.<anonymous>:5",
      "  books2,",
      "  ^",
      "",
      "ReferenceError: books2 is not defined",
      "    at evalmachine.<anonymous>:5:3",
      "    at Script.runInThisContext (node:vm:129:12)",
      "    at Object.runInThisContext (node:vm:313:38)",
      "    at run ([eval]:1020:15)",
      "    at onRunRequest ([eval]:864:18)",
      "    at onMessage ([eval]:828:13)",
      "    at process.emit (node:events:513:28)",
      "    at emit (node:internal/child_process:946:14)",
      "    at processTicksAndRejections (node:internal/process/task_queues:84:21)"
     ]
    }
   ],
   "source": [
    "const books1 = ['learning javascript', 'learning python']\n",
    "const magazines1 = ['vogue', 'science']\n",
    "\n",
    "const bookshop1 = {\n",
    "  books2,\n",
    "  magazines2,\n",
    "}\n",
    "\n",
    "console.log(bookshop1)"
   ]
  },
  {
   "cell_type": "code",
   "execution_count": 5,
   "metadata": {},
   "outputs": [
    {
     "name": "stdout",
     "output_type": "stream",
     "text": [
      "{\n",
      "  books3: [ 'learning javascript', 'learning python' ],\n",
      "  magazines3: [ 'vogue', 'science' ]\n",
      "}\n"
     ]
    }
   ],
   "source": [
    "const books3 = ['learning javascript', 'learning python']\n",
    "const magazines3 = ['vogue', 'science']\n",
    "\n",
    "const bookshop3 = {\n",
    "  books3,\n",
    "  magazines3,\n",
    "}\n",
    "\n",
    "console.log(bookshop3)"
   ]
  },
  {
   "cell_type": "code",
   "execution_count": 6,
   "metadata": {},
   "outputs": [
    {
     "ename": "SyntaxError",
     "evalue": "Unexpected end of input",
     "output_type": "error",
     "traceback": [
      "evalmachine.<anonymous>:1",
      "const obj = ",
      "            ",
      "",
      "SyntaxError: Unexpected end of input",
      "    at new Script (node:vm:100:7)",
      "    at createScript (node:vm:265:10)",
      "    at Object.runInThisContext (node:vm:313:10)",
      "    at run ([eval]:1020:15)",
      "    at onRunRequest ([eval]:864:18)",
      "    at onMessage ([eval]:828:13)",
      "    at process.emit (node:events:513:28)",
      "    at emit (node:internal/child_process:946:14)",
      "    at processTicksAndRejections (node:internal/process/task_queues:84:21)"
     ]
    }
   ],
   "source": [
    "const obj = "
   ]
  },
  {
   "cell_type": "code",
   "execution_count": null,
   "metadata": {},
   "outputs": [],
   "source": []
  },
  {
   "cell_type": "code",
   "execution_count": 7,
   "metadata": {},
   "outputs": [
    {
     "ename": "ReferenceError",
     "evalue": "obj is not defined",
     "output_type": "error",
     "traceback": [
      "evalmachine.<anonymous>:7",
      "obj.greeting()",
      "^",
      "",
      "ReferenceError: obj is not defined",
      "    at evalmachine.<anonymous>:7:1",
      "    at Script.runInThisContext (node:vm:129:12)",
      "    at Object.runInThisContext (node:vm:313:38)",
      "    at run ([eval]:1020:15)",
      "    at onRunRequest ([eval]:864:18)",
      "    at onMessage ([eval]:828:13)",
      "    at process.emit (node:events:513:28)",
      "    at emit (node:internal/child_process:946:14)",
      "    at processTicksAndRejections (node:internal/process/task_queues:84:21)"
     ]
    }
   ],
   "source": [
    "const objs = {\n",
    "  greeting() {\n",
    "    console.log('Hi')\n",
    "  }\n",
    "}\n",
    "\n",
    "obj.greeting()"
   ]
  }
 ],
 "metadata": {
  "kernelspec": {
   "display_name": "JavaScript (Node.js)",
   "language": "javascript",
   "name": "javascript"
  },
  "language_info": {
   "file_extension": ".js",
   "mimetype": "application/javascript",
   "name": "javascript",
   "version": "16.18.0"
  },
  "orig_nbformat": 4
 },
 "nbformat": 4,
 "nbformat_minor": 2
}
