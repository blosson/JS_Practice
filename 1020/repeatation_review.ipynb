{
 "cells": [
  {
   "cell_type": "code",
   "execution_count": 1,
   "metadata": {},
   "outputs": [
    {
     "name": "stdout",
     "output_type": "stream",
     "text": [
      "0\n",
      "1\n",
      "2\n",
      "korea\n",
      "france\n",
      "japan\n"
     ]
    }
   ],
   "source": [
    "const numbers = [10, 20, 30]\n",
    "for (const number in numbers) {\n",
    "  console.log(number)\n",
    "}\n",
    "\n",
    "const capitals = {\n",
    "  korea: 'Seoul',\n",
    "  france: 'Paris',\n",
    "  japan: 'Tokyo',\n",
    "}\n",
    "\n",
    "for (const captial in capitals) {\n",
    "  console.log(captial)\n",
    "}\n",
    "\n"
   ]
  },
  {
   "cell_type": "code",
   "execution_count": 3,
   "metadata": {},
   "outputs": [
    {
     "name": "stdout",
     "output_type": "stream",
     "text": [
      "10\n",
      "20\n",
      "30\n"
     ]
    },
    {
     "ename": "TypeError",
     "evalue": "capitals3 is not iterable",
     "output_type": "error",
     "traceback": [
      "evalmachine.<anonymous>:13",
      "for (const captial2 of capitals3) {",
      "                       ^",
      "",
      "TypeError: capitals3 is not iterable",
      "    at evalmachine.<anonymous>:13:24",
      "    at Script.runInThisContext (node:vm:129:12)",
      "    at Object.runInThisContext (node:vm:313:38)",
      "    at run ([eval]:1020:15)",
      "    at onRunRequest ([eval]:864:18)",
      "    at onMessage ([eval]:828:13)",
      "    at process.emit (node:events:513:28)",
      "    at emit (node:internal/child_process:946:14)",
      "    at processTicksAndRejections (node:internal/process/task_queues:84:21)"
     ]
    }
   ],
   "source": [
    "\n",
    "const nubmers3 = [10, 20, 30]\n",
    "for (const number3 of nubmers3) {\n",
    "  console.log(number3)\n",
    "}\n",
    "\n",
    "const capitals3 = {\n",
    "  korea: 'Seoul',\n",
    "  france: 'Paris',\n",
    "  japan: 'Tokyo',\n",
    "}\n",
    "\n",
    "for (const captial2 of capitals3) {\n",
    "  console.log(captial2)\n",
    "}\n",
    "\n"
   ]
  }
 ],
 "metadata": {
  "kernelspec": {
   "display_name": "JavaScript (Node.js)",
   "language": "javascript",
   "name": "javascript"
  },
  "language_info": {
   "file_extension": ".js",
   "mimetype": "application/javascript",
   "name": "javascript",
   "version": "16.18.0"
  },
  "orig_nbformat": 4
 },
 "nbformat": 4,
 "nbformat_minor": 2
}
